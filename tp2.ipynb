{
 "cells": [
  {
   "cell_type": "markdown",
   "metadata": {},
   "source": [
    "## Portuguese POS Tagging"
   ]
  },
  {
   "cell_type": "code",
   "execution_count": 41,
   "metadata": {},
   "outputs": [],
   "source": [
    "import nltk\n",
    "from keras.preprocessing.sequence import pad_sequences\n",
    "import warnings\n",
    "warnings.simplefilter(action='ignore', category=FutureWarning)"
   ]
  },
  {
   "cell_type": "code",
   "execution_count": 26,
   "metadata": {},
   "outputs": [],
   "source": [
    "file_train = 'data/macmorpho-train.txt'\n",
    "file_test = 'data/macmorpho-test.txt'\n",
    "file_val = 'data/macmorpho-dev.txt'"
   ]
  },
  {
   "cell_type": "code",
   "execution_count": 34,
   "metadata": {},
   "outputs": [],
   "source": [
    "def pre_processing(fname, train=False):\n",
    "    with open(fname, 'r') as text:\n",
    "        lines = text.readlines()\n",
    "\n",
    "    sentences_words = []\n",
    "    sentences_tags = []\n",
    "    for l in lines:\n",
    "        sentence = l.replace('\\n', '').split(' ')\n",
    "        words_token = []\n",
    "        tags_token = []\n",
    "        for s in sentence:\n",
    "            word_tag = s.split('_')\n",
    "            words_token.append(word_tag[0])\n",
    "            tags_token.append(word_tag[1])\n",
    "        sentences_words.append(words_token)\n",
    "        sentences_tags.append(tags_token)\n",
    "        \n",
    "    if train:\n",
    "        return create_dict_to_numbers(sentences_words, sentences_tags)\n",
    "    \n",
    "    return sentences_words, sentences_tags\n",
    "\n",
    "def create_dict_to_numbers(sentences_words, sentences_tags):\n",
    "    word2number = {}\n",
    "    tag2number = {}\n",
    "    \n",
    "    i = 2\n",
    "    for s in sentences_words:\n",
    "        for word in s:\n",
    "            if word.lower() not in word2number.keys():\n",
    "                word2number[word.lower()] = i\n",
    "                i+=1\n",
    "    word2number['--padding--'] = 0\n",
    "    word2number['--not-exist--'] = 1\n",
    "    \n",
    "    i = 1\n",
    "    for s in sentences_tags:\n",
    "        for tag in s:\n",
    "            if tag not in tag2number.keys():\n",
    "                tag2number[tag] = i\n",
    "                i+=1\n",
    "    tag2number['--padding--'] = 0\n",
    "    \n",
    "    return sentences_words, sentences_tags, word2number, tag2number\n",
    "\n",
    "def convert_to_numbers(sentences_words, sentences_tags, word2number, tag2number):\n",
    "    sentences_X, sentences_Y = [], []\n",
    "    \n",
    "    for s in sentences_words:\n",
    "        aux_sent = []\n",
    "        for w in s:\n",
    "            try:\n",
    "                aux_sent.append(word2number[w.lower()])\n",
    "            except:\n",
    "                aux_sent.append(word2number['--not-exist--'])\n",
    "        sentences_X.append(aux_sent)\n",
    "    \n",
    "    for s in sentences_tags:\n",
    "        sentences_Y.append([tag2number[t] for t in s])\n",
    "    \n",
    "    return sentences_X, sentences_Y\n"
   ]
  },
  {
   "cell_type": "code",
   "execution_count": 35,
   "metadata": {},
   "outputs": [
    {
     "name": "stdout",
     "output_type": "stream",
     "text": [
      "End Pre-Processing Train\n",
      "End Pre-Processing Test\n",
      "End Pre-Processing Val\n"
     ]
    }
   ],
   "source": [
    "train_words, train_tags, word2number, tag2number = pre_processing(file_train, train=True)\n",
    "train_X, train_Y = convert_to_numbers(train_words, train_tags, word2number, tag2number)\n",
    "\n",
    "print('End Pre-Processing Train')\n",
    "test_words, test_tags = pre_processing(file_test)\n",
    "test_X, test_Y = convert_to_numbers(test_words, test_tags, word2number, tag2number)\n",
    "print('End Pre-Processing Test')\n",
    "val_words, val_tags = pre_processing(file_val)\n",
    "val_X, val_Y = convert_to_numbers(val_words, val_tags, word2number, tag2number)\n",
    "print('End Pre-Processing Val')"
   ]
  },
  {
   "cell_type": "code",
   "execution_count": null,
   "metadata": {},
   "outputs": [],
   "source": []
  }
 ],
 "metadata": {
  "kernelspec": {
   "display_name": "Python 3",
   "language": "python",
   "name": "python3"
  },
  "language_info": {
   "codemirror_mode": {
    "name": "ipython",
    "version": 3
   },
   "file_extension": ".py",
   "mimetype": "text/x-python",
   "name": "python",
   "nbconvert_exporter": "python",
   "pygments_lexer": "ipython3",
   "version": "3.7.4"
  }
 },
 "nbformat": 4,
 "nbformat_minor": 2
}
